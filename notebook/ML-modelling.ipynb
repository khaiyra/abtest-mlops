{
 "cells": [
  {
   "cell_type": "markdown",
   "metadata": {},
   "source": [
    "## Task 2"
   ]
  },
  {
   "cell_type": "code",
   "execution_count": 1,
   "metadata": {},
   "outputs": [
    {
     "ename": "ModuleNotFoundError",
     "evalue": "No module named 'dvc'",
     "output_type": "error",
     "traceback": [
      "\u001b[0;31m---------------------------------------------------------------------------\u001b[0m",
      "\u001b[0;31mModuleNotFoundError\u001b[0m                       Traceback (most recent call last)",
      "\u001b[0;32m<ipython-input-1-eb5a810e13e2>\u001b[0m in \u001b[0;36m<module>\u001b[0;34m\u001b[0m\n\u001b[1;32m      2\u001b[0m \u001b[0;32mimport\u001b[0m \u001b[0msys\u001b[0m\u001b[0;34m\u001b[0m\u001b[0;34m\u001b[0m\u001b[0m\n\u001b[1;32m      3\u001b[0m \u001b[0;32mimport\u001b[0m \u001b[0mos\u001b[0m\u001b[0;34m\u001b[0m\u001b[0;34m\u001b[0m\u001b[0m\n\u001b[0;32m----> 4\u001b[0;31m \u001b[0;32mimport\u001b[0m \u001b[0mdvc\u001b[0m\u001b[0;34m.\u001b[0m\u001b[0mapi\u001b[0m\u001b[0;34m\u001b[0m\u001b[0;34m\u001b[0m\u001b[0m\n\u001b[0m\u001b[1;32m      5\u001b[0m \u001b[0;32mimport\u001b[0m \u001b[0mnumpy\u001b[0m \u001b[0;32mas\u001b[0m \u001b[0mnp\u001b[0m\u001b[0;34m\u001b[0m\u001b[0;34m\u001b[0m\u001b[0m\n\u001b[1;32m      6\u001b[0m \u001b[0;32mimport\u001b[0m \u001b[0mpandas\u001b[0m \u001b[0;32mas\u001b[0m \u001b[0mpd\u001b[0m\u001b[0;34m\u001b[0m\u001b[0;34m\u001b[0m\u001b[0m\n",
      "\u001b[0;31mModuleNotFoundError\u001b[0m: No module named 'dvc'"
     ]
    }
   ],
   "source": [
    "# import Libraries\n",
    "import sys\n",
    "import os\n",
    "import dvc.api\n",
    "import numpy as np\n",
    "import pandas as pd"
   ]
  },
  {
   "cell_type": "code",
   "execution_count": 3,
   "metadata": {
    "scrolled": false
   },
   "outputs": [
    {
     "name": "stdout",
     "output_type": "stream",
     "text": [
      "Collecting dvc\n",
      "  Using cached dvc-2.5.4-py3-none-any.whl (638 kB)\n",
      "Requirement already satisfied: typing-extensions>=3.7.4 in /Users/khaiyra/opt/anaconda3/lib/python3.8/site-packages (from dvc) (3.10.0.0)\n",
      "Requirement already satisfied: configobj>=5.0.6 in /Users/khaiyra/opt/anaconda3/lib/python3.8/site-packages (from dvc) (5.0.6)\n",
      "Requirement already satisfied: toml>=0.10.1 in /Users/khaiyra/opt/anaconda3/lib/python3.8/site-packages (from dvc) (0.10.1)\n",
      "Requirement already satisfied: psutil>=5.8.0 in /Users/khaiyra/opt/anaconda3/lib/python3.8/site-packages (from dvc) (5.8.0)\n",
      "Requirement already satisfied: tabulate>=0.8.7 in /Users/khaiyra/opt/anaconda3/lib/python3.8/site-packages (from dvc) (0.8.9)\n",
      "Requirement already satisfied: pathspec>=0.6.0 in /Users/khaiyra/opt/anaconda3/lib/python3.8/site-packages (from dvc) (0.9.0)\n",
      "Requirement already satisfied: shortuuid>=0.5.0 in /Users/khaiyra/opt/anaconda3/lib/python3.8/site-packages (from dvc) (1.0.1)\n",
      "Requirement already satisfied: setuptools>=34.0.0 in /Users/khaiyra/opt/anaconda3/lib/python3.8/site-packages (from dvc) (57.4.0)\n",
      "Requirement already satisfied: rich>=10.0.0 in /Users/khaiyra/opt/anaconda3/lib/python3.8/site-packages (from dvc) (10.6.0)\n",
      "Requirement already satisfied: jsonpath-ng>=1.5.1 in /Users/khaiyra/opt/anaconda3/lib/python3.8/site-packages (from dvc) (1.5.3)\n",
      "Requirement already satisfied: pydot>=1.2.4 in /Users/khaiyra/opt/anaconda3/lib/python3.8/site-packages (from dvc) (1.4.2)\n",
      "Requirement already satisfied: grandalf==0.6 in /Users/khaiyra/opt/anaconda3/lib/python3.8/site-packages (from dvc) (0.6)\n",
      "Requirement already satisfied: dulwich>=0.20.23 in /Users/khaiyra/opt/anaconda3/lib/python3.8/site-packages (from dvc) (0.20.24)\n",
      "Requirement already satisfied: voluptuous>=0.11.7 in /Users/khaiyra/opt/anaconda3/lib/python3.8/site-packages (from dvc) (0.12.1)\n",
      "Requirement already satisfied: pyasn1>=0.4.1 in /Users/khaiyra/opt/anaconda3/lib/python3.8/site-packages (from dvc) (0.4.8)\n",
      "Collecting ruamel.yaml>=0.16.1\n",
      "  Using cached ruamel.yaml-0.17.10-py3-none-any.whl (108 kB)\n",
      "Requirement already satisfied: fsspec>=2021.6.1 in /Users/khaiyra/opt/anaconda3/lib/python3.8/site-packages (from dvc) (2021.7.0)\n",
      "Requirement already satisfied: pyparsing==2.4.7 in /Users/khaiyra/opt/anaconda3/lib/python3.8/site-packages (from dvc) (2.4.7)\n",
      "Requirement already satisfied: colorama>=0.3.9 in /Users/khaiyra/opt/anaconda3/lib/python3.8/site-packages (from dvc) (0.4.4)\n",
      "Requirement already satisfied: pygtrie>=2.3.2 in /Users/khaiyra/opt/anaconda3/lib/python3.8/site-packages (from dvc) (2.4.2)\n",
      "Requirement already satisfied: requests>=2.22.0 in /Users/khaiyra/opt/anaconda3/lib/python3.8/site-packages (from dvc) (2.26.0)\n",
      "Requirement already satisfied: dictdiffer>=0.8.1 in /Users/khaiyra/opt/anaconda3/lib/python3.8/site-packages (from dvc) (0.9.0)\n",
      "Requirement already satisfied: dpath<3,>=2.0.1 in /Users/khaiyra/opt/anaconda3/lib/python3.8/site-packages (from dvc) (2.0.1)\n",
      "Requirement already satisfied: packaging>=19.0 in /Users/khaiyra/opt/anaconda3/lib/python3.8/site-packages (from dvc) (21.0)\n",
      "Requirement already satisfied: flufl.lock<4,>=3.2 in /Users/khaiyra/opt/anaconda3/lib/python3.8/site-packages (from dvc) (3.2)\n",
      "Requirement already satisfied: funcy>=1.14 in /Users/khaiyra/opt/anaconda3/lib/python3.8/site-packages (from dvc) (1.16)\n",
      "Requirement already satisfied: networkx~=2.5 in /Users/khaiyra/opt/anaconda3/lib/python3.8/site-packages (from dvc) (2.5.1)\n",
      "Requirement already satisfied: flatten-dict<1,>=0.3.0 in /Users/khaiyra/opt/anaconda3/lib/python3.8/site-packages (from dvc) (0.4.1)\n",
      "Requirement already satisfied: diskcache>=5.2.1 in /Users/khaiyra/opt/anaconda3/lib/python3.8/site-packages (from dvc) (5.2.1)\n",
      "Requirement already satisfied: distro>=1.3.0 in /Users/khaiyra/opt/anaconda3/lib/python3.8/site-packages (from dvc) (1.5.0)\n",
      "Requirement already satisfied: tqdm<5,>=4.45.0 in /Users/khaiyra/opt/anaconda3/lib/python3.8/site-packages (from dvc) (4.61.2)\n",
      "Requirement already satisfied: shtab<2,>=1.3.4 in /Users/khaiyra/opt/anaconda3/lib/python3.8/site-packages (from dvc) (1.3.9)\n",
      "Requirement already satisfied: appdirs>=1.4.3 in /Users/khaiyra/opt/anaconda3/lib/python3.8/site-packages (from dvc) (1.4.4)\n",
      "Requirement already satisfied: nanotime>=0.5.2 in /Users/khaiyra/opt/anaconda3/lib/python3.8/site-packages (from dvc) (0.5.2)\n",
      "Collecting pygit2>=1.5.0\n",
      "  Using cached pygit2-1.6.1-cp38-cp38-macosx_10_9_x86_64.whl (821 kB)\n",
      "Requirement already satisfied: python-benedict>=0.21.1 in /Users/khaiyra/opt/anaconda3/lib/python3.8/site-packages (from dvc) (0.24.0)\n",
      "Requirement already satisfied: zc.lockfile>=1.2.1 in /Users/khaiyra/opt/anaconda3/lib/python3.8/site-packages (from dvc) (2.0)\n",
      "Requirement already satisfied: gitpython>3 in /Users/khaiyra/opt/anaconda3/lib/python3.8/site-packages (from dvc) (3.1.18)\n",
      "Requirement already satisfied: ply>=3.9 in /Users/khaiyra/opt/anaconda3/lib/python3.8/site-packages (from dvc) (3.11)\n",
      "Requirement already satisfied: six in /Users/khaiyra/opt/anaconda3/lib/python3.8/site-packages (from configobj>=5.0.6->dvc) (1.16.0)\n",
      "Requirement already satisfied: commonmark<0.10.0,>=0.9.0 in /Users/khaiyra/opt/anaconda3/lib/python3.8/site-packages (from rich>=10.0.0->dvc) (0.9.1)\n",
      "Requirement already satisfied: pygments<3.0.0,>=2.6.0 in /Users/khaiyra/opt/anaconda3/lib/python3.8/site-packages (from rich>=10.0.0->dvc) (2.7.2)\n",
      "Requirement already satisfied: decorator in /Users/khaiyra/opt/anaconda3/lib/python3.8/site-packages (from jsonpath-ng>=1.5.1->dvc) (4.4.2)\n",
      "Requirement already satisfied: future in /Users/khaiyra/opt/anaconda3/lib/python3.8/site-packages (from grandalf==0.6->dvc) (0.18.2)\n",
      "Requirement already satisfied: urllib3>=1.24.1 in /Users/khaiyra/opt/anaconda3/lib/python3.8/site-packages (from dulwich>=0.20.23->dvc) (1.26.6)\n",
      "Requirement already satisfied: certifi in /Users/khaiyra/opt/anaconda3/lib/python3.8/site-packages (from dulwich>=0.20.23->dvc) (2021.5.30)\n",
      "Requirement already satisfied: ruamel.yaml.clib>=0.1.2; platform_python_implementation == \"CPython\" and python_version < \"3.10\" in /Users/khaiyra/opt/anaconda3/lib/python3.8/site-packages (from ruamel.yaml>=0.16.1->dvc) (0.2.6)\n",
      "Requirement already satisfied: charset-normalizer~=2.0.0; python_version >= \"3\" in /Users/khaiyra/opt/anaconda3/lib/python3.8/site-packages (from requests>=2.22.0->dvc) (2.0.3)\n",
      "Requirement already satisfied: idna<4,>=2.5; python_version >= \"3\" in /Users/khaiyra/opt/anaconda3/lib/python3.8/site-packages (from requests>=2.22.0->dvc) (3.2)\n",
      "Requirement already satisfied: atpublic in /Users/khaiyra/opt/anaconda3/lib/python3.8/site-packages (from flufl.lock<4,>=3.2->dvc) (2.3)\n",
      "Requirement already satisfied: cffi>=1.4.0 in /Users/khaiyra/opt/anaconda3/lib/python3.8/site-packages (from pygit2>=1.5.0->dvc) (1.14.6)\n",
      "Requirement already satisfied: mailchecker in /Users/khaiyra/opt/anaconda3/lib/python3.8/site-packages (from python-benedict>=0.21.1->dvc) (4.0.11)\n",
      "Requirement already satisfied: ftfy; python_version >= \"3.6\" in /Users/khaiyra/opt/anaconda3/lib/python3.8/site-packages (from python-benedict>=0.21.1->dvc) (6.0.3)\n",
      "Requirement already satisfied: xmltodict in /Users/khaiyra/opt/anaconda3/lib/python3.8/site-packages (from python-benedict>=0.21.1->dvc) (0.12.0)\n",
      "Requirement already satisfied: phonenumbers in /Users/khaiyra/opt/anaconda3/lib/python3.8/site-packages (from python-benedict>=0.21.1->dvc) (8.12.28)\n",
      "Requirement already satisfied: python-dateutil in /Users/khaiyra/opt/anaconda3/lib/python3.8/site-packages (from python-benedict>=0.21.1->dvc) (2.8.2)\n",
      "Requirement already satisfied: python-fsutil in /Users/khaiyra/opt/anaconda3/lib/python3.8/site-packages (from python-benedict>=0.21.1->dvc) (0.5.0)\n",
      "Requirement already satisfied: pyyaml in /Users/khaiyra/opt/anaconda3/lib/python3.8/site-packages (from python-benedict>=0.21.1->dvc) (5.4.1)\n",
      "Requirement already satisfied: python-slugify in /Users/khaiyra/opt/anaconda3/lib/python3.8/site-packages (from python-benedict>=0.21.1->dvc) (5.0.2)\n",
      "Requirement already satisfied: gitdb<5,>=4.0.1 in /Users/khaiyra/opt/anaconda3/lib/python3.8/site-packages (from gitpython>3->dvc) (4.0.7)\n",
      "Requirement already satisfied: pycparser in /Users/khaiyra/opt/anaconda3/lib/python3.8/site-packages (from cffi>=1.4.0->pygit2>=1.5.0->dvc) (2.20)\n",
      "Requirement already satisfied: wcwidth in /Users/khaiyra/opt/anaconda3/lib/python3.8/site-packages (from ftfy; python_version >= \"3.6\"->python-benedict>=0.21.1->dvc) (0.2.5)\n",
      "Requirement already satisfied: text-unidecode>=1.3 in /Users/khaiyra/opt/anaconda3/lib/python3.8/site-packages (from python-slugify->python-benedict>=0.21.1->dvc) (1.3)\n",
      "Requirement already satisfied: smmap<5,>=3.0.1 in /Users/khaiyra/opt/anaconda3/lib/python3.8/site-packages (from gitdb<5,>=4.0.1->gitpython>3->dvc) (4.0.0)\n"
     ]
    },
    {
     "name": "stdout",
     "output_type": "stream",
     "text": [
      "Installing collected packages: ruamel.yaml, pygit2, dvc\n",
      "  Attempting uninstall: ruamel.yaml\n",
      "    Found existing installation: ruamel-yaml 0.15.87\n",
      "\u001b[31mERROR: Cannot uninstall 'ruamel-yaml'. It is a distutils installed project and thus we cannot accurately determine which files belong to it which would lead to only a partial uninstall.\u001b[0m\n",
      "Note: you may need to restart the kernel to use updated packages.\n"
     ]
    }
   ],
   "source": [
    "pip install dvc"
   ]
  },
  {
   "cell_type": "code",
   "execution_count": null,
   "metadata": {},
   "outputs": [],
   "source": []
  }
 ],
 "metadata": {
  "kernelspec": {
   "display_name": "Python 3",
   "language": "python",
   "name": "python3"
  },
  "language_info": {
   "codemirror_mode": {
    "name": "ipython",
    "version": 3
   },
   "file_extension": ".py",
   "mimetype": "text/x-python",
   "name": "python",
   "nbconvert_exporter": "python",
   "pygments_lexer": "ipython3",
   "version": "3.8.5"
  }
 },
 "nbformat": 4,
 "nbformat_minor": 4
}
